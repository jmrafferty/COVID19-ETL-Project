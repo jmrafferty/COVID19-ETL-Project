{
 "cells": [
  {
   "cell_type": "code",
   "execution_count": 1,
   "metadata": {},
   "outputs": [],
   "source": [
    "# Dependencie\n",
    "import pandas as pd\n",
    "from sqlalchemy import create_engine\n",
    "\n",
    "from sqlalchemy.ext.declarative import declarative_base\n",
    "Base = declarative_base()\n",
    "from sqlalchemy import Column, Integer, String, Float\n",
    "\n",
    "import matplotlib.pyplot as plt\n",
    "import numpy as np\n",
    "import requests\n",
    "import json\n",
    "import random\n",
    "from datetime import datetime\n",
    "from bs4 import BeautifulSoup"
   ]
  },
  {
   "cell_type": "code",
   "execution_count": 3,
   "metadata": {},
   "outputs": [],
   "source": [
    "url = 'https://data.humdata.org/dataset/novel-coronavirus-2019-ncov-cases'\n",
    "\n",
    "response = requests.get(url)\n",
    "soup = BeautifulSoup(response.text, 'lxml')"
   ]
  },
  {
   "cell_type": "code",
   "execution_count": 4,
   "metadata": {},
   "outputs": [],
   "source": [
    "scraped = soup.find_all('a', class_='resource-url-analytics')\n",
    "confirmed = scraped[0]['href']\n",
    "deaths = scraped[1]['href']\n",
    "recovered = scraped[2]['href']\n",
    "#scraped"
   ]
  },
  {
   "cell_type": "code",
   "execution_count": 5,
   "metadata": {},
   "outputs": [],
   "source": [
    "confirmed_df = pd.read_csv(confirmed)\n",
    "deaths_df = pd.read_csv(deaths)\n",
    "recovered_df = pd.read_csv(recovered)"
   ]
  },
  {
   "cell_type": "code",
   "execution_count": 7,
   "metadata": {},
   "outputs": [
    {
     "data": {
      "text/html": [
       "<div>\n",
       "<style scoped>\n",
       "    .dataframe tbody tr th:only-of-type {\n",
       "        vertical-align: middle;\n",
       "    }\n",
       "\n",
       "    .dataframe tbody tr th {\n",
       "        vertical-align: top;\n",
       "    }\n",
       "\n",
       "    .dataframe thead th {\n",
       "        text-align: right;\n",
       "    }\n",
       "</style>\n",
       "<table border=\"1\" class=\"dataframe\">\n",
       "  <thead>\n",
       "    <tr style=\"text-align: right;\">\n",
       "      <th></th>\n",
       "      <th>Lat</th>\n",
       "      <th>Date</th>\n",
       "      <th>Cases</th>\n",
       "    </tr>\n",
       "    <tr>\n",
       "      <th>Long</th>\n",
       "      <th></th>\n",
       "      <th></th>\n",
       "      <th></th>\n",
       "    </tr>\n",
       "  </thead>\n",
       "  <tbody>\n",
       "    <tr>\n",
       "      <td>117.2264</td>\n",
       "      <td>31.8257</td>\n",
       "      <td>1/22/20</td>\n",
       "      <td>1</td>\n",
       "    </tr>\n",
       "    <tr>\n",
       "      <td>116.4142</td>\n",
       "      <td>40.1824</td>\n",
       "      <td>1/22/20</td>\n",
       "      <td>14</td>\n",
       "    </tr>\n",
       "    <tr>\n",
       "      <td>107.8740</td>\n",
       "      <td>30.0572</td>\n",
       "      <td>1/22/20</td>\n",
       "      <td>6</td>\n",
       "    </tr>\n",
       "    <tr>\n",
       "      <td>117.9874</td>\n",
       "      <td>26.0789</td>\n",
       "      <td>1/22/20</td>\n",
       "      <td>1</td>\n",
       "    </tr>\n",
       "    <tr>\n",
       "      <td>103.8343</td>\n",
       "      <td>36.0611</td>\n",
       "      <td>1/22/20</td>\n",
       "      <td>0</td>\n",
       "    </tr>\n",
       "    <tr>\n",
       "      <td>...</td>\n",
       "      <td>...</td>\n",
       "      <td>...</td>\n",
       "      <td>...</td>\n",
       "    </tr>\n",
       "    <tr>\n",
       "      <td>-96.4930</td>\n",
       "      <td>33.1795</td>\n",
       "      <td>3/9/20</td>\n",
       "      <td>1</td>\n",
       "    </tr>\n",
       "    <tr>\n",
       "      <td>-85.6435</td>\n",
       "      <td>38.1938</td>\n",
       "      <td>3/9/20</td>\n",
       "      <td>1</td>\n",
       "    </tr>\n",
       "    <tr>\n",
       "      <td>-90.1121</td>\n",
       "      <td>29.6499</td>\n",
       "      <td>3/9/20</td>\n",
       "      <td>1</td>\n",
       "    </tr>\n",
       "    <tr>\n",
       "      <td>-121.8474</td>\n",
       "      <td>40.7909</td>\n",
       "      <td>3/9/20</td>\n",
       "      <td>1</td>\n",
       "    </tr>\n",
       "    <tr>\n",
       "      <td>-81.9535</td>\n",
       "      <td>34.8606</td>\n",
       "      <td>3/9/20</td>\n",
       "      <td>1</td>\n",
       "    </tr>\n",
       "  </tbody>\n",
       "</table>\n",
       "<p>12768 rows × 3 columns</p>\n",
       "</div>"
      ],
      "text/plain": [
       "               Lat     Date  Cases\n",
       "Long                              \n",
       " 117.2264  31.8257  1/22/20      1\n",
       " 116.4142  40.1824  1/22/20     14\n",
       " 107.8740  30.0572  1/22/20      6\n",
       " 117.9874  26.0789  1/22/20      1\n",
       " 103.8343  36.0611  1/22/20      0\n",
       "...            ...      ...    ...\n",
       "-96.4930   33.1795   3/9/20      1\n",
       "-85.6435   38.1938   3/9/20      1\n",
       "-90.1121   29.6499   3/9/20      1\n",
       "-121.8474  40.7909   3/9/20      1\n",
       "-81.9535   34.8606   3/9/20      1\n",
       "\n",
       "[12768 rows x 3 columns]"
      ]
     },
     "execution_count": 7,
     "metadata": {},
     "output_type": "execute_result"
    }
   ],
   "source": [
    "COVID_confirmed = confirmed_df.melt(id_vars = ['Province/State', 'Country/Region','Lat', 'Long']\\\n",
    "                                   , var_name = 'Date', value_name = 'Cases' )\n",
    "\n",
    "COVID_confirmed = COVID_confirmed.drop(columns=['Province/State', 'Country/Region'])\n",
    "\n",
    "COVID_confirmed = COVID_confirmed.set_index('Long')\n",
    "COVID_confirmed.to_csv('confirmed.csv')\n",
    "COVID_confirmed"
   ]
  },
  {
   "cell_type": "code",
   "execution_count": 9,
   "metadata": {},
   "outputs": [],
   "source": [
    "#covid_19_deaths_pd = pd.read_csv(covid_19_deaths)\n",
    "#covid_19_deaths_pd\n",
    "COVID_19_deaths_pd= deaths_df.melt(id_vars = ['Province/State', 'Country/Region','Lat', 'Long']\\\n",
    "                                   , var_name = 'Date', value_name = 'Cases' )\n",
    "\n",
    "COVID_19_deaths_pd = COVID_19_deaths_pd.drop(columns=['Province/State', 'Country/Region','Lat'])\n",
    "\n",
    "\n",
    "COVID_19_deaths_pd.to_csv('deaths.csv')"
   ]
  },
  {
   "cell_type": "code",
   "execution_count": 10,
   "metadata": {},
   "outputs": [],
   "source": [
    "COVID_19_recovered_pd= recovered_df.melt(id_vars = ['Province/State', 'Country/Region','Lat', 'Long']\\\n",
    "                                   , var_name = 'Date', value_name = 'Cases' )\n",
    "\n",
    "COVID_19_recovered_pd = COVID_19_recovered_pd.drop(columns=['Province/State', 'Country/Region','Lat'])\n",
    "\n",
    "COVID_19_recovered_pd.to_csv('recovered.csv')"
   ]
  },
  {
   "cell_type": "code",
   "execution_count": 11,
   "metadata": {},
   "outputs": [],
   "source": [
    "geodata = confirmed_df[['Long', 'Lat', 'Province/State', 'Country/Region']]\n",
    "#geodata = geodata.set_index('Long')\n",
    "#len(geodata['Long'].unique())\n",
    "#geodata.info()\n",
    "#geodata.to_csv('geodata.csv')\n",
    "#geodata.loc[(geodata['Long'] == 139.638)]\n",
    "#geodata.groupby('Long').sum()\n",
    "#geodata.iloc[74:]\n",
    "geodata = geodata.groupby('Long').sum()\n",
    "geodata = geodata.merge(confirmed_df, how='left', on=['Long','Lat'])\n",
    "geodata = geodata[['Long', 'Lat', 'Province/State', 'Country/Region']]\n",
    "geodata = geodata.set_index('Long')\n",
    "\n",
    "geodata.to_csv('geodata.csv')\n"
   ]
  },
  {
   "cell_type": "code",
   "execution_count": null,
   "metadata": {},
   "outputs": [],
   "source": []
  },
  {
   "cell_type": "code",
   "execution_count": null,
   "metadata": {},
   "outputs": [],
   "source": []
  }
 ],
 "metadata": {
  "kernelspec": {
   "display_name": "Python 3",
   "language": "python",
   "name": "python3"
  },
  "language_info": {
   "codemirror_mode": {
    "name": "ipython",
    "version": 3
   },
   "file_extension": ".py",
   "mimetype": "text/x-python",
   "name": "python",
   "nbconvert_exporter": "python",
   "pygments_lexer": "ipython3",
   "version": "3.7.4"
  }
 },
 "nbformat": 4,
 "nbformat_minor": 2
}
